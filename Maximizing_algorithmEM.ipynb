{
  "nbformat": 4,
  "nbformat_minor": 0,
  "metadata": {
    "colab": {
      "name": "Maximizing algorithm",
      "provenance": [],
      "collapsed_sections": [],
      "toc_visible": true
    },
    "kernelspec": {
      "display_name": "Python 3",
      "name": "python3"
    }
  },
  "cells": [
    {
      "cell_type": "code",
      "metadata": {
        "id": "P0tP9JXJLXLa"
      },
      "source": [
        "import matplotlib.pyplot as plt\r\n",
        "import pandas as pd\r\n",
        "import numpy as np\r\n",
        "import math\r\n",
        "from  datetime import datetime as dt"
      ],
      "execution_count": null,
      "outputs": []
    },
    {
      "cell_type": "code",
      "metadata": {
        "id": "TQ7sqrgomStq"
      },
      "source": [
        "from google.colab import files\r\n",
        "uploaded = files.upload()\r\n",
        "\r\n"
      ],
      "execution_count": null,
      "outputs": []
    },
    {
      "cell_type": "code",
      "metadata": {
        "id": "Ch2sSUMKn0ma"
      },
      "source": [
        "import pandas as pd\r\n",
        "import io\r\n",
        "\r\n",
        "df = pd.read_excel(io.BytesIO(uploaded['stocks.xlsx']))\r\n",
        "df"
      ],
      "execution_count": null,
      "outputs": []
    },
    {
      "cell_type": "code",
      "metadata": {
        "id": "Kh4G806woNaH"
      },
      "source": [
        ""
      ],
      "execution_count": null,
      "outputs": []
    },
    {
      "cell_type": "code",
      "metadata": {
        "id": "fXOxLXj2UD8M"
      },
      "source": [
        "\r\n",
        "from scipy.stats import multivariate_normal\r\n",
        "import matplotlib.pyplot as plt\r\n",
        "def initialize_clusters(X, n_clusters):\r\n",
        "    clusters = []\r\n",
        "    idx = np.arange(X.shape[0])\r\n",
        "    \r\n",
        "    kmeans = KMeans().fit(X)\r\n",
        "    mu_k = kmeans.cluster_centers_\r\n",
        "    \r\n",
        "    for i in range(n_clusters):\r\n",
        "        clusters.append({\r\n",
        "            'pi_k': 1.0 / n_clusters,\r\n",
        "            'mu_k': mu_k[i],\r\n",
        "            'cov_k': np.identity(X.shape[1], dtype=np.float64)\r\n",
        "        })\r\n",
        "        \r\n",
        "    return clusters"
      ],
      "execution_count": null,
      "outputs": []
    },
    {
      "cell_type": "code",
      "metadata": {
        "id": "677UgP3ZUeL_"
      },
      "source": [
        "def expectation_step(X, clusters):\r\n",
        "    totals = np.zeros((X.shape[0], 1), dtype=np.float64)\r\n",
        "    \r\n",
        "    for cluster in clusters:\r\n",
        "        pi_k = cluster['pi_k']\r\n",
        "        mu_k = cluster['mu_k']\r\n",
        "        cov_k = cluster['cov_k']\r\n",
        "        \r\n",
        "        gamma_nk = (pi_k * gaussian(X, mu_k, cov_k)).astype(np.float64)\r\n",
        "        \r\n",
        "        for i in range(X.shape[0]):\r\n",
        "            totals[i] += gamma_nk[i]\r\n",
        "        \r\n",
        "        cluster['gamma_nk'] = gamma_nk\r\n",
        "        cluster['totals'] = totals\r\n",
        "    \r\n",
        "    for cluster in clusters:\r\n",
        "        cluster['gamma_nk'] /= cluster['totals']"
      ],
      "execution_count": null,
      "outputs": []
    },
    {
      "cell_type": "code",
      "metadata": {
        "id": "ruyFncOUU-zG"
      },
      "source": [
        "def maximization_step(X, clusters):\r\n",
        "    N = float(X.shape[0])\r\n",
        "  \r\n",
        "    for cluster in clusters:\r\n",
        "        gamma_nk = cluster['gamma_nk']\r\n",
        "        cov_k = np.zeros((X.shape[1], X.shape[1]))\r\n",
        "        \r\n",
        "        N_k = np.sum(gamma_nk, axis=0)\r\n",
        "        \r\n",
        "        pi_k = N_k / N\r\n",
        "        mu_k = np.sum(gamma_nk * X, axis=0) / N_k\r\n",
        "        \r\n",
        "        for j in range(X.shape[0]):\r\n",
        "            diff = (X[j] - mu_k).reshape(-1, 1)\r\n",
        "            cov_k += gamma_nk[j] * np.dot(diff, diff.T)\r\n",
        "            \r\n",
        "        cov_k /= N_k\r\n",
        "        \r\n",
        "        cluster['pi_k'] = pi_k\r\n",
        "        cluster['mu_k'] = mu_k\r\n",
        "        cluster['cov_k'] = cov_k\r\n"
      ],
      "execution_count": null,
      "outputs": []
    }
  ]
}