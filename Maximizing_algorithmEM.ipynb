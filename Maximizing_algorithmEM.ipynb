{
  "nbformat": 4,
  "nbformat_minor": 0,
  "metadata": {
    "colab": {
      "name": "Project1",
      "provenance": [],
      "collapsed_sections": [],
      "toc_visible": true
    },
    "kernelspec": {
      "display_name": "Python 3",
      "name": "python3"
    }
  },
  "cells": [
    {
      "cell_type": "code",
      "metadata": {
        "id": "21FSj9kvewd-",
        "colab": {
          "base_uri": "https://localhost:8080/"
        },
        "outputId": "ca5c521c-043f-4347-ccf0-3ec9b1d38b7a"
      },
      "source": [
        "#import all the libraries\r\n",
        "\r\n",
        "import imageio\r\n",
        "import matplotlib.animation as ani\r\n",
        "import matplotlib.cm as cmx\r\n",
        "import matplotlib.colors as colors\r\n",
        "import matplotlib.pyplot as plt\r\n",
        "from matplotlib.patches import Ellipse\r\n",
        "from PIL import Image\r\n",
        "from sklearn import datasets\r\n",
        "from sklearn.cluster import KMeans\r\n",
        "from scipy.stats import multivariate_normal\r\n",
        "import pandas as pd\r\n",
        "import numpy as np\r\n",
        "import io\r\n"
      ],
      "execution_count": null,
      "outputs": [
        {
          "output_type": "execute_result",
          "data": {
            "text/plain": [
              "array([0.00159853, 0.00481869, 0.00276259, 0.0014309 , 0.00143998])"
            ]
          },
          "metadata": {
            "tags": []
          },
          "execution_count": 13
        }
      ]
    },
    {
      "cell_type": "code",
      "metadata": {
        "id": "MTiIxpObzhop"
      },
      "source": [
        "#access the data\r\n",
        "from google.colab import files\r\n",
        "uploaded = files.upload()"
      ],
      "execution_count": null,
      "outputs": []
    },
    {
      "cell_type": "code",
      "metadata": {
        "id": "IogDd60bzlws"
      },
      "source": [
        "df = pd.read_excel(io.BytesIO(uploaded['stocks.xlsx']))\r\n",
        "df"
      ],
      "execution_count": null,
      "outputs": []
    },
    {
      "cell_type": "code",
      "metadata": {
        "id": "J6Vu30VSzDvN"
      },
      "source": [
        "#implement the Gaussian density function.\r\n",
        "def gaussian(X, mu, c):\r\n",
        "  return multivariate_normal.pdf(x,mean = m, cov = c)\r\n",
        "    \r\n",
        "\r\n",
        "x0 = np.array([[0.05, 1.413, 0.212], [0.85, -0.3, 1.11], [11.1, 0.4, 1.5], [0.27, 0.12, 1.44], [88, 12.33, 1.44]])\r\n",
        "mu = np.mean(x0, axis=0)\r\n",
        "cov = np.dot((x0 - mu).T, x0 - mu) / (x0.shape[0] - 1)\r\n",
        "\r\n",
        "\r\n",
        "\r\n",
        "\r\n",
        "\r\n",
        "z=multi_gaussian(x0,mu,cov)\r\n",
        "z"
      ],
      "execution_count": null,
      "outputs": []
    },
    {
      "cell_type": "code",
      "metadata": {
        "id": "u5yWkKOK2PXo"
      },
      "source": [
        "#initialization process of Gaussian mixture model.\r\n",
        "def initialize_clusters(X, n_clusters):\r\n",
        "    clusters = []\r\n",
        "    idx = np.arange(X.shape[0])\r\n",
        "    \r\n",
        "    #the KMeans centroids.\r\n",
        "    \r\n",
        "    kmeans = KMeans(n_clusters).fit(X)\r\n",
        "    mu_k = kmeans.cluster_centers_\r\n",
        "    \r\n",
        "    for i in range(n_clusters):\r\n",
        "        clusters.append({\r\n",
        "            'pi_k': 1.0 / n_clusters,\r\n",
        "            'mu_k': mu_k[i],\r\n",
        "            'cov_k': np.identity(X.shape[1], dtype=np.float64)\r\n",
        "        })\r\n",
        "        \r\n",
        "    return clusters"
      ],
      "execution_count": null,
      "outputs": []
    },
    {
      "cell_type": "code",
      "metadata": {
        "id": "HyVoGaul21zW"
      },
      "source": [
        "def expectation_step(X, clusters):\r\n",
        "    totals = np.zeros((X.shape[0], 1), dtype=np.float64)\r\n",
        "    \r\n",
        "    for cluster in clusters:\r\n",
        "        pi_k = cluster['pi_k']\r\n",
        "        mu_k = cluster['mu_k']\r\n",
        "        cov_k = cluster['cov_k']\r\n",
        "        \r\n",
        "        gamma_nk = (pi_k * gaussian(X, mu_k, cov_k)).astype(np.float64)\r\n",
        "        \r\n",
        "        for i in range(X.shape[0]):\r\n",
        "            totals[i] += gamma_nk[i]\r\n",
        "        \r\n",
        "        cluster['gamma_nk'] = gamma_nk\r\n",
        "        cluster['totals'] = totals\r\n",
        "        \r\n",
        "    \r\n",
        "    for cluster in clusters:\r\n",
        "        cluster['gamma_nk'] /= cluster['totals']"
      ],
      "execution_count": null,
      "outputs": []
    },
    {
      "cell_type": "code",
      "metadata": {
        "id": "wZpskJ8f27mo"
      },
      "source": [
        "def maximization_step(X, clusters):\r\n",
        "    N = float(X.shape[0])\r\n",
        "  \r\n",
        "    for cluster in clusters:\r\n",
        "        gamma_nk = cluster['gamma_nk']\r\n",
        "        cov_k = np.zeros((X.shape[1], X.shape[1]))\r\n",
        "        \r\n",
        "        N_k = np.sum(gamma_nk, axis=0)\r\n",
        "        \r\n",
        "        pi_k = N_k / N\r\n",
        "        mu_k = np.sum(gamma_nk * X, axis=0) / N_k\r\n",
        "        \r\n",
        "        for j in range(X.shape[0]):\r\n",
        "            diff = (X[j] - mu_k).reshape(-1, 1)\r\n",
        "            cov_k += gamma_nk[j] * np.dot(diff, diff.T)\r\n",
        "            \r\n",
        "        cov_k /= N_k\r\n",
        "        \r\n",
        "        cluster['pi_k'] = pi_k\r\n",
        "        cluster['mu_k'] = mu_k\r\n",
        "        cluster['cov_k'] = cov_k"
      ],
      "execution_count": null,
      "outputs": []
    },
    {
      "cell_type": "code",
      "metadata": {
        "id": "_TO8SXKp4TjN"
      },
      "source": [
        "def get_likelihood(X, clusters):\r\n",
        "    sample_likelihoods = np.log(np.array([cluster['totals'] for cluster in clusters]))\r\n",
        "    return np.sum(sample_likelihoods), sample_likelihoods"
      ],
      "execution_count": null,
      "outputs": []
    },
    {
      "cell_type": "code",
      "metadata": {
        "id": "gTBRhjWQ4gz3"
      },
      "source": [
        "def train_gmm(X, n_clusters, n_epochs):\r\n",
        "    clusters = initialize_clusters(X, n_clusters)\r\n",
        "    likelihoods = np.zeros((n_epochs, ))\r\n",
        "    scores = np.zeros((X.shape[0], n_clusters))\r\n",
        "    history = []\r\n",
        "\r\n",
        "    for i in range(n_epochs):\r\n",
        "        clusters_snapshot = []\r\n",
        "        \r\n",
        "        # This is just for our later use in the graphs\r\n",
        "        for cluster in clusters:\r\n",
        "            clusters_snapshot.append({\r\n",
        "                'mu_k': cluster['mu_k'].copy(),\r\n",
        "                'cov_k': cluster['cov_k'].copy()\r\n",
        "            })\r\n",
        "            \r\n",
        "        history.append(clusters_snapshot)\r\n",
        "      \r\n",
        "        expectation_step(X, clusters)\r\n",
        "        maximization_step(X, clusters)\r\n",
        "\r\n",
        "        likelihood, sample_likelihoods = get_likelihood(X, clusters)\r\n",
        "        likelihoods[i] = likelihood\r\n",
        "\r\n",
        "        print('Epoch: ', i + 1, 'Likelihood: ', likelihood)\r\n",
        "        \r\n",
        "    for i, cluster in enumerate(clusters):\r\n",
        "        scores[:, i] = np.log(cluster['gamma_nk']).reshape(-1)\r\n",
        "        \r\n",
        "    return clusters, likelihoods, scores, sample_likelihoods, history"
      ],
      "execution_count": null,
      "outputs": []
    }
  ]
}